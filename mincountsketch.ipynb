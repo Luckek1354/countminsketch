{
 "cells": [
  {
   "cell_type": "code",
   "execution_count": 40,
   "metadata": {},
   "outputs": [],
   "source": [
    "import numpy as np # linear algebra\n",
    "import pandas as pd # data processing, CSV file I/O (e.g. pd.read_csv)\n",
    "import seaborn as sns # visualizations\n",
    "import os\n",
    "import glob\n",
    "import time\n",
    "import sys"
   ]
  },
  {
   "cell_type": "code",
   "execution_count": 101,
   "metadata": {},
   "outputs": [],
   "source": [
    "with open(\"/home/dunbar/Downloads/NC_000019.10[1..6900000].fa\") as fd:\n",
    "    file = fd.read()\n",
    "    fd.close()\n",
    "\n",
    "len(file)\n",
    "file = file.split(\"Assembly\")[1]\n",
    "file = file.split(\"\\n\")\n",
    "temp = ''\n",
    "[temp.join(sub) for sub in file]\n",
    "file = temp\n",
    "step = 16\n",
    "words = []\n",
    "for i in range(0,len(file)-step,step):\n",
    "    j = i+step\n",
    "    words.append(file[i:j])"
   ]
  },
  {
   "cell_type": "markdown",
   "metadata": {},
   "source": [
    "Count Min Sketch Ideas:\n",
    "\n",
    "1) Show Frequency Count efficiency (Naive -> CMS implementation)\n",
    "    - Basic Dictionary Count\n",
    "    - Binning applications (When we can say \"close enough\" and clump instances togeather)\n",
    "\n",
    "2) Show application to specific problems (Anomaly Detection"
   ]
  },
  {
   "cell_type": "code",
   "execution_count": 51,
   "metadata": {},
   "outputs": [],
   "source": [
    "# naively count frequencies\n",
    "\n",
    "class dictionary():\n",
    "    \n",
    "    def __init__(self):\n",
    "        self.dictionary = {}\n",
    "        self.nbytes = sys.getsizeof(self)\n",
    "    \n",
    "    def getsize(self):\n",
    "        print(\"Dictionary is Size: {} Bytes\\n\".format(self.nbytes))\n",
    "        \n",
    "    def add(self,token):\n",
    "        if token in self.dictionary:\n",
    "            self.dictionary[token] += 1\n",
    "        else:\n",
    "            self.dictionary[token] = 1\n",
    "        self.nbytes = sys.getsizeof(self.dictionary)\n",
    "        \n",
    "    def timed_update(self,tokenlist):\n",
    "        startsize = self.nbytes\n",
    "        start = time.time()\n",
    "        for token in tokenlist:\n",
    "            self.add(token)\n",
    "        end = time.time() - start\n",
    "        dsize = self.nbytes - startsize\n",
    "        print(\"Time Elapsed: {} Seconds \\n\".format(end))\n",
    "        print(\"Change In Memory: {} Bytes\\n\".format(dsize))\n",
    "    \n",
    "    def estimate(self,token):\n",
    "        try:\n",
    "            return self.dictionary[token]\n",
    "        except:\n",
    "            print(\"Error: Token Not Found \\n\")"
   ]
  },
  {
   "cell_type": "code",
   "execution_count": 105,
   "metadata": {},
   "outputs": [],
   "source": [
    "\n",
    "class CountMinSketch:\n",
    "    \n",
    "    def __init__(self,vec_length=2**4):\n",
    "        self.N = vec_length\n",
    "\n",
    "        self.PRIMES = [121021, 121151, 150151, 151051, 151121, 180181, 180811, 181081, 2976221, \n",
    "          3021377, 6972593, 13466917, 20996011, 24036583, 25964951, 30402457,33923743,33492811,77381235]\n",
    "        self.table = np.zeros((len(self.PRIMES),self.N))\n",
    "        self.hashes = [self._genhash(prime) for prime in self.PRIMES]\n",
    "        self.nbytes = sys.getsizeof(self.table) + sys.getsizeof(self.hashes)\n",
    "        \n",
    "    def _genhash(self,prime):\n",
    "        p = prime\n",
    "        def hash_fn(val):\n",
    "            key = ['A','C','G','T']\n",
    "            val = np.array([key.index(val[i]) for i in range(len(val))])\n",
    "            index = (val*p)\n",
    "            return index%len(self.PRIMES)\n",
    "        return hash_fn\n",
    "\n",
    "    def getsize(self):\n",
    "        print(\"Sketch is Size: {} Bytes\\n\".format(self.nbytes))\n",
    "        \n",
    "    def add(self, val):\n",
    "      \n",
    "        for ix in range(0, self.N):\n",
    "            h = self.hashes[ix](val)\n",
    "            self.table[h][ix] += 1\n",
    "        self.nbytes = sys.getsizeof(self.table) + sys.getsizeof(self.hashes)\n",
    "            \n",
    "    def timed_update(self,valuelist):\n",
    "        startsize = self.nbytes\n",
    "  \n",
    "    \n",
    "        start = time.time()\n",
    "        for value in valuelist:\n",
    "            self.add(value)\n",
    "        end = time.time() - start\n",
    "        dsize = sys.getsizeof(self.table) + sys.getsizeof(self.hashes) - startsize\n",
    "        print(\"Time Elapsed: {} Seconds \\n\".format(end))\n",
    "        print(\"Change In Memory: {} Bytes\\n\".format(dsize))\n",
    "                              \n",
    "                              \n",
    "       \n",
    "    def count(self,val):\n",
    "        # Helper Function\n",
    "        vals = []\n",
    "        for ix in range(0, N):\n",
    "            h = self.hashes[ix](val)\n",
    "            vals.append(self.table[h][ix])\n",
    "        return vals\n",
    "            \n",
    "    def estimate(self, value):\n",
    "   \n",
    "        results = []\n",
    "        for ix in range(0, N):\n",
    "            h = self.hashes[ix](value)\n",
    "            c = self.table[h][ix]\n",
    "            results.append(c)\n",
    "        return min(results)"
   ]
  },
  {
   "cell_type": "code",
   "execution_count": 49,
   "metadata": {},
   "outputs": [],
   "source": [
    "class changeDetection():\n",
    "    def __init__(self,sketchset,w):\n",
    "        self.sketchset = sketchset\n",
    "        self.w = w\n",
    "        self.MA = None\n",
    "        \n",
    "    def update(self,sketch):\n",
    "        self.sketchset.append(sketch)\n",
    "        if len(self.sketchet >self.w):\n",
    "            self.sketchset.pop(0)\n",
    "        self.calcmovingAv()\n",
    "            \n",
    "    def calcmovingAv(self):\n",
    "        tableav = 0\n",
    "        for i,sketch in enumerate(self.sketchset):\n",
    "            tableav += sketch.table\n",
    "        tableav /= len(self.sketchset)\n",
    "        self.MA = tableav\n",
    "        \n",
    "    def indmovingAv(self,val):\n",
    "        # Helper Function\n",
    "        mavals = []\n",
    "        for ix in range(0, N):\n",
    "            h = self.sketchset[-1].hashes[ix](val)\n",
    "            mavals.append(self.MA[h][ix])\n",
    "        return mavals\n",
    "    \n",
    "    def bucketDist(self,value,idx):\n",
    "        # Helper Function\n",
    "        sketch = self.sketchset[idx]\n",
    "        K = np.sum(sketch.table > 0)\n",
    "        counts = sketch.count(vals)\n",
    "        vals = (counts - self.indmovingAv(value))\n",
    "        vals = [value/(1 - 1/K) for value in vals]\n",
    "        v_a  = np.median(vals)\n",
    "        return counts,v_a\n",
    "    \n",
    "    def isAttack(self,value,beta):\n",
    "        # given a set of values, compute their respective counts and determine the\n",
    "        # \"Change\" in the count frequency relative to their respective bins to dermine \n",
    "        # an anomoly\n",
    "        \n",
    "        # If the ID post count exceeds the criteria from the previous sketch\n",
    "        # then it qualifies as an attack\n",
    "        counts,variance = self.bucketDist(value,-1)\n",
    "        mean = self.MA\n",
    "        crit = mean + beta*variance\n",
    "        for count in counts:\n",
    "            if count > crit:\n",
    "                print(\"Found Anomoly: {},{}\".format(count,crit))\n",
    "                return True\n",
    "          "
   ]
  },
  {
   "cell_type": "code",
   "execution_count": 52,
   "metadata": {},
   "outputs": [
    {
     "name": "stdout",
     "output_type": "stream",
     "text": [
      "Time Elapsed: 0.23912620544433594 Seconds \n",
      "\n",
      "Change In Memory: 20971560 Bytes\n",
      "\n"
     ]
    }
   ],
   "source": [
    "genomedict = dictionary()\n",
    "genomedict.timed_update(words)"
   ]
  },
  {
   "cell_type": "code",
   "execution_count": 106,
   "metadata": {},
   "outputs": [
    {
     "name": "stdout",
     "output_type": "stream",
     "text": [
      "Time Elapsed: 4.76837158203125e-07 Seconds \n",
      "\n",
      "Change In Memory: 0 Bytes\n",
      "\n"
     ]
    }
   ],
   "source": [
    "genomesketch = CountMinSketch()\n",
    "genomesketch.timed_update(words)"
   ]
  },
  {
   "cell_type": "code",
   "execution_count": null,
   "metadata": {},
   "outputs": [],
   "source": []
  }
 ],
 "metadata": {
  "kernelspec": {
   "display_name": "Python 3",
   "language": "python",
   "name": "python3"
  },
  "language_info": {
   "codemirror_mode": {
    "name": "ipython",
    "version": 3
   },
   "file_extension": ".py",
   "mimetype": "text/x-python",
   "name": "python",
   "nbconvert_exporter": "python",
   "pygments_lexer": "ipython3",
   "version": "3.7.3"
  }
 },
 "nbformat": 4,
 "nbformat_minor": 2
}
