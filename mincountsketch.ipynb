{
 "cells": [
  {
   "cell_type": "markdown",
   "metadata": {},
   "source": [
    "# Count-Min Sketch\n",
    "---\n",
    "\n",
    "The Count-Min (CM) sketch is a probabilistic data structure that provides\n",
    "a lossy form of compression for large count/frequency datasets.\n",
    "It is typically used for streaming data. At the heart of the CM sketch\n",
    "is hashing. The CM sketch uses a set of hash functions with corresponding,\n",
    "constant size, hash tables. These hash functions are independent from one\n",
    "another. Since the hash functions are independent, each distributes\n",
    "data differently within its hash table. This independent hashing redundancy allows\n",
    "CM sketches to achieve a high degree of lossy compression while still \n",
    "producing quality estimates of the original data.\n",
    "\n",
    "### Internals\n",
    "---\n",
    "The core data storage structure within a CM sketch is a $w$ * $d$ table, $\\text{count}$. $w$ is given by $w = \\left\\lceil\\frac{e}{\\epsilon}\\right\\rceil$ and d is given by $d = \\ln\\left(\\frac{1}{\\delta}\\right)$. $\\epsilon$ is the additive error factor that a result will be within with probability $1-\\delta$.\n",
    "\n",
    "<img src=\"./img/cm_internal_table.png\" width=\"400\" />\n",
    "\n",
    "Each row in the table is used as the hash table for one of the $1..d$ hash functions. When we add an event to the sketch, its count is added to each row.\n",
    "\n",
    "<img src=\"./img/cm_adding_event.png\" width=\"400\" />\n",
    "\n",
    "### Operations\n",
    "---\n",
    "#### Point Query $Q(i)$\n",
    "A point query is the estimation of $a_i$ from the original data.\n",
    "\n",
    "<img src=\"./img/cm_point_q.png\" width=\"400\" />\n",
    "$$Q(i) = \\min_j\\text{count}[j, h_j(i)]$$\n",
    "\n",
    "#### Range Query $Q(l, r)$\n",
    "A range query from $l..r$ is the estimation of the sum over that range.\n",
    "$$Q(l,r) = \\sum_{i=l}^r a_i$$\n",
    "To accuratly calculate a range query, $log(n)$ sketches must be kept; one for each set of dyadic ranges spanning $1..n$.\n",
    "\n",
    "#### Inner Product $Q(\\boldsymbol{a}, \\boldsymbol{b})$\n",
    "The inner product between two arrays can be estimated using a sketch for each array and taking the minimum row-wise inner product.\n",
    "$$Q(\\boldsymbol{a}, \\boldsymbol{b}) = \\min_j\\sum_{k=1}^w\\text{count}_a[j, k]*\\text{count}_b[j, k]$$"
   ]
  },
  {
   "cell_type": "code",
   "execution_count": null,
   "metadata": {},
   "outputs": [],
   "source": [
    "import numpy as np # linear algebra\n",
    "import pandas as pd # data processing, CSV file I/O (e.g. pd.read_csv)\n",
    "import seaborn as sns # visualizations\n",
    "import os\n",
    "import glob\n",
    "import time\n",
    "import sys\n",
    "import mmh3\n",
    "# \"pip install mmh3\" should do it"
   ]
  },
  {
   "cell_type": "markdown",
   "metadata": {},
   "source": [
    "Here we will look at the space/time trade offs of a min-sketch versus a more naiive implementation. In the class definitions, fill in the TODO's."
   ]
  },
  {
   "cell_type": "code",
   "execution_count": null,
   "metadata": {},
   "outputs": [],
   "source": [
    "# naively count frequencies\n",
    "\n",
    "class dictionary():\n",
    "    \n",
    "    def __init__(self):\n",
    "        self.dictionary = {}\n",
    "        self.nbytes = sys.getsizeof(self)\n",
    "    \n",
    "    def getsize(self):\n",
    "        print(\"Dictionary is Size: {} Bytes\\n\".format(self.nbytes))\n",
    "        \n",
    "    def add(self,token):\n",
    "        if token in self.dictionary:\n",
    "            # TODO\n",
    "        else:\n",
    "            # TODO\n",
    "        self.nbytes = sys.getsizeof(self.dictionary)\n",
    "        \n",
    "    def timed_update(self,tokenlist):\n",
    "        startsize = self.nbytes\n",
    "        start = time.time()\n",
    "        for token in tokenlist:\n",
    "            self.add(token)\n",
    "        end = time.time() - start\n",
    "        dsize = self.nbytes - startsize\n",
    "        print(\"Time Elapsed: {} Seconds \\n\".format(end))\n",
    "        print(\"Change In Memory: {} Bytes\\n\".format(dsize))\n",
    "    \n",
    "    def estimate(self,token):\n",
    "        try:\n",
    "            return self.dictionary[token]\n",
    "        except:\n",
    "            print(\"Error: Token Not Found \\n\")"
   ]
  },
  {
   "cell_type": "code",
   "execution_count": null,
   "metadata": {},
   "outputs": [],
   "source": [
    "\n",
    "class CountMinSketch():\n",
    "    \n",
    "    def __init__(self,seqlist=None,indexes=2**5,hashfuncs=2**5):\n",
    "        self.N = indexes\n",
    "        self.M = hashfuncs\n",
    "        self.seeds = np.arange(hashfuncs).tolist()\n",
    "        self.table = np.zeros((self.M,self.N))\n",
    "        self.hashes = [self._genhash(seed) for seed in self.seeds]\n",
    "        self.nbytes = sys.getsizeof(self.table) + sys.getsizeof(self.hashes)\\\n",
    "        if seqlist is not None:\n",
    "            for value in seqlist:\n",
    "                self.add(value)\n",
    "        \n",
    "    def _genhash(self,prime):\n",
    "        def hash_fn(val):\n",
    "            index = mmh3.hash(val,seed=prime)\n",
    "            return index%self.M\n",
    "        return hash_fn\n",
    "\n",
    "    def getsize(self):\n",
    "        print(\"Sketch is Size: {} Bytes\\n\".format(self.nbytes))\n",
    "        \n",
    "    def add(self, val):      \n",
    "        for ix in range(0, self.N):\n",
    "            # TODO\n",
    "            # Hint: self.table definitions alludes to the correct indexes\n",
    "\n",
    "            \n",
    "    def timed_update(self,valuelist):\n",
    "        start = time.time()\n",
    "        for value in valuelist:\n",
    "            self.add(value)\n",
    "        end = time.time() - start\n",
    "        dsize = sys.getsizeof(self.table) + sys.getsizeof(self.hashes)\n",
    "        print(\"Time Elapsed: {} Seconds \\n\".format(end))\n",
    "        print(\"Memory Useage: {} Bytes\\n\".format(dsize))\n",
    "                              \n",
    "                              \n",
    "       \n",
    "    def count(self,val):\n",
    "        # Helper Function\n",
    "        vals = []\n",
    "        for ix in range(0, N):\n",
    "            h = self.hashes[ix](val)\n",
    "            vals.append(self.table[h][ix])\n",
    "        return vals\n",
    "            \n",
    "    def estimate(self, value):\n",
    "        # Implement a point query from the sketch (see figure above if lost)\n",
    "        results = []\n",
    "        for ix in range(0, N):\n",
    "            # TODO\n",
    "            pass"
   ]
  },
  {
   "cell_type": "markdown",
   "metadata": {},
   "source": [
    "We have taken genomes from the fruit fly (Drosophilia Melanogaster) and from a human chromosome and from them created a list of 16 character sequences so as to simulate \"words\" (Not biologically accurate but it serves our purposes here). Upload these lists of words and store them in your naiive implementation and your CMS implementation and evaluate their performance."
   ]
  },
  {
   "cell_type": "code",
   "execution_count": null,
   "metadata": {},
   "outputs": [],
   "source": [
    "fruitfly = np.load(\"genomedata/fruitfly.npy\")\n",
    "human = np.load(\"genomedata/human.npy\")"
   ]
  },
  {
   "cell_type": "code",
   "execution_count": null,
   "metadata": {},
   "outputs": [],
   "source": [
    "genomedict = dictionary()\n",
    "genomedict.timed_update(human)"
   ]
  },
  {
   "cell_type": "code",
   "execution_count": null,
   "metadata": {},
   "outputs": [],
   "source": [
    "genomesketch = CountMinSketch()\n",
    "genomesketch.timed_update(human)"
   ]
  },
  {
   "cell_type": "code",
   "execution_count": null,
   "metadata": {},
   "outputs": [],
   "source": [
    "fruitflydict = dictionary()\n",
    "fruitflydict.timed_update(fruitfly)"
   ]
  },
  {
   "cell_type": "code",
   "execution_count": null,
   "metadata": {},
   "outputs": [],
   "source": [
    "fruitflysketch = CountMinSketch()\n",
    "fruitflysketch.timed_update(fruitfly)"
   ]
  },
  {
   "cell_type": "markdown",
   "metadata": {},
   "source": [
    "Reflections:\n",
    "\n",
    "1) Compare and contrast the time/space performance between the naiive implementations of both the fruit fly and human chromosome sequence\n",
    "\n",
    "2) Compare and contrast the time/space performance between the CMS implementations of both the fruit fly and human chromosome sequence\n",
    "\n",
    "3) When might the CMS be a more prudent tool than something more basic?\n"
   ]
  },
  {
   "cell_type": "markdown",
   "metadata": {},
   "source": [
    "As it turns out, we can use the inner product between to tables to sort of gauge similiarity.\n",
    "#### Inner Product $Q(\\boldsymbol{a}, \\boldsymbol{b})$\n",
    "$$Q(\\boldsymbol{a}, \\boldsymbol{b}) = \\min_j\\sum_{k=1}^w\\text{count}_a[j, k]*\\text{count}_b[j, k]$$\n",
    "\n",
    "Here we implement this in BinaryClassification() to see if we can determine whether a sub-sketch (a sketch formed from a portion of a given sequence) came from one \"complete\" sketch or the other. Fill in the blanks and try it out below:"
   ]
  },
  {
   "cell_type": "code",
   "execution_count": null,
   "metadata": {},
   "outputs": [],
   "source": [
    "class BinaryClassification():\n",
    "    \n",
    "    def __init__(self,A,B,update=False):\n",
    "        self.streamA = A\n",
    "        self.streamB = B\n",
    "        \n",
    "    def _dotProduct(self,tableA,tableB):\n",
    "        return (tableA * tableB).sum(axis=1).min()\n",
    "        \n",
    "    def classify(self,subsketch):\n",
    "        # TODO\n",
    "        pass"
   ]
  },
  {
   "cell_type": "code",
   "execution_count": null,
   "metadata": {},
   "outputs": [],
   "source": [
    "# Classify these sketches with the BinaryClassification object\n",
    "fly_or_human = BinaryClassification(genomesketch,fruitflysketch)\n",
    "\n",
    "subhuman = human[::2]\n",
    "subfly = fruitfly[::2]"
   ]
  },
  {
   "cell_type": "markdown",
   "metadata": {},
   "source": [
    "If you have conviced yourself that a CMS in conjunction with the inner product can serve to create a supervised learning algorithm, then proceed to classify the mystery sequences provided with the class object below. WE have provided \"sequences\" containing words of length 16 from the Atlantic Cod, Fruit Fly, Garter Snake, Human, Nematode, a simulated genome, and Yeast. The answers are in the text file provided.\n",
    "\n",
    "<img src=\"./img/dros_fruit_fly.jpg\" width=\"400\" />\n"
   ]
  },
  {
   "cell_type": "code",
   "execution_count": null,
   "metadata": {},
   "outputs": [],
   "source": [
    "class classifier():\n",
    "    def __init__(self,sketchset,labels):\n",
    "        self.sketchset = sketchset\n",
    "        self.labels = labels\n",
    "        \n",
    "    def _dotProduct(self,tableA,tableB):\n",
    "        return (tableA * tableB).sum(axis=1).min()\n",
    "        \n",
    "    def compare(self,subsketch):\n",
    "        dotproduct = []\n",
    "        for sketch in self.sketchset:\n",
    "            pass\n",
    "            #TODO\n",
    "        return None"
   ]
  },
  {
   "cell_type": "code",
   "execution_count": null,
   "metadata": {},
   "outputs": [],
   "source": [
    "files = [\"genomedata/atlanticcod.npy\",\"genomedata/fruitfly.npy\",\"genomedata/gartersnake.npy\",\"genomicdata/human.npy\",\"genomicdata/nematode.npy\",\"genomicdata/simulated.npy\",\"genomicdata/yeast.npy\"]\n",
    "labels = [\"Atlantic Cod\",\"Fruit Fly\",\"Garter Snake\",\"Human\",\"Nematode\",\"Simulated\",\"Yeast\"]\n",
    "mysteryfiles = [\"genomedata/mystery1.npy\",\"genomedata/mystery2.npy\",\"genomedata/mystery3.npy\",\"genomedata/mystery4.npy\",\"genomedata/mystery5.npy\",\"genomedata/mystery6.npy\",\"genomedata/mystery7.npy\",\"genomedata/mystery8.npy\"]"
   ]
  }
 ],
 "metadata": {
  "kernelspec": {
   "display_name": "Python 3",
   "language": "python",
   "name": "python3"
  },
  "language_info": {
   "codemirror_mode": {
    "name": "ipython",
    "version": 3
   },
   "file_extension": ".py",
   "mimetype": "text/x-python",
   "name": "python",
   "nbconvert_exporter": "python",
   "pygments_lexer": "ipython3",
   "version": "3.7.8"
  }
 },
 "nbformat": 4,
 "nbformat_minor": 2
}
