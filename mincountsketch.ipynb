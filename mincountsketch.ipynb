{
 "cells": [
  {
   "cell_type": "code",
   "execution_count": 24,
   "metadata": {},
   "outputs": [],
   "source": [
    "import numpy as np # linear algebra\n",
    "import pandas as pd # data processing, CSV file I/O (e.g. pd.read_csv)\n",
    "import seaborn as sns # visualizations\n",
    "import os\n",
    "import glob"
   ]
  },
  {
   "cell_type": "code",
   "execution_count": 46,
   "metadata": {},
   "outputs": [],
   "source": [
    "files = glob.glob(\"/home/dunbar/countminsketch/*.csv\")\n",
    "df = pd.read_csv(files[0])\n",
    "for file in files[1:]:\n",
    "    frame = pd.read_csv(file)\n",
    "    df.append(frame,ignore_index=True)\n"
   ]
  },
  {
   "cell_type": "code",
   "execution_count": 47,
   "metadata": {},
   "outputs": [
    {
     "data": {
      "text/html": [
       "<div>\n",
       "<style scoped>\n",
       "    .dataframe tbody tr th:only-of-type {\n",
       "        vertical-align: middle;\n",
       "    }\n",
       "\n",
       "    .dataframe tbody tr th {\n",
       "        vertical-align: top;\n",
       "    }\n",
       "\n",
       "    .dataframe thead th {\n",
       "        text-align: right;\n",
       "    }\n",
       "</style>\n",
       "<table border=\"1\" class=\"dataframe\">\n",
       "  <thead>\n",
       "    <tr style=\"text-align: right;\">\n",
       "      <th></th>\n",
       "      <th>event_time</th>\n",
       "      <th>event_type</th>\n",
       "      <th>product_id</th>\n",
       "      <th>category_id</th>\n",
       "      <th>category_code</th>\n",
       "      <th>brand</th>\n",
       "      <th>price</th>\n",
       "      <th>user_id</th>\n",
       "      <th>user_session</th>\n",
       "    </tr>\n",
       "  </thead>\n",
       "  <tbody>\n",
       "    <tr>\n",
       "      <th>0</th>\n",
       "      <td>2020-01-01 00:00:00 UTC</td>\n",
       "      <td>view</td>\n",
       "      <td>5809910</td>\n",
       "      <td>1602943681873052386</td>\n",
       "      <td>NaN</td>\n",
       "      <td>grattol</td>\n",
       "      <td>5.24</td>\n",
       "      <td>595414620</td>\n",
       "      <td>4adb70bb-edbd-4981-b60f-a05bfd32683a</td>\n",
       "    </tr>\n",
       "    <tr>\n",
       "      <th>1</th>\n",
       "      <td>2020-01-01 00:00:09 UTC</td>\n",
       "      <td>view</td>\n",
       "      <td>5812943</td>\n",
       "      <td>1487580012121948301</td>\n",
       "      <td>NaN</td>\n",
       "      <td>kinetics</td>\n",
       "      <td>3.97</td>\n",
       "      <td>595414640</td>\n",
       "      <td>c8c5205d-be43-4f1d-aa56-4828b8151c8a</td>\n",
       "    </tr>\n",
       "    <tr>\n",
       "      <th>2</th>\n",
       "      <td>2020-01-01 00:00:19 UTC</td>\n",
       "      <td>view</td>\n",
       "      <td>5798924</td>\n",
       "      <td>1783999068867920626</td>\n",
       "      <td>NaN</td>\n",
       "      <td>zinger</td>\n",
       "      <td>3.97</td>\n",
       "      <td>595412617</td>\n",
       "      <td>46a5010f-bd69-4fbe-a00d-bb17aa7b46f3</td>\n",
       "    </tr>\n",
       "    <tr>\n",
       "      <th>3</th>\n",
       "      <td>2020-01-01 00:00:24 UTC</td>\n",
       "      <td>view</td>\n",
       "      <td>5793052</td>\n",
       "      <td>1487580005754995573</td>\n",
       "      <td>NaN</td>\n",
       "      <td>NaN</td>\n",
       "      <td>4.92</td>\n",
       "      <td>420652863</td>\n",
       "      <td>546f6af3-a517-4752-a98b-80c4c5860711</td>\n",
       "    </tr>\n",
       "    <tr>\n",
       "      <th>4</th>\n",
       "      <td>2020-01-01 00:00:25 UTC</td>\n",
       "      <td>view</td>\n",
       "      <td>5899926</td>\n",
       "      <td>2115334439910245200</td>\n",
       "      <td>NaN</td>\n",
       "      <td>NaN</td>\n",
       "      <td>3.92</td>\n",
       "      <td>484071203</td>\n",
       "      <td>cff70ddf-529e-4b0c-a4fc-f43a749c0acb</td>\n",
       "    </tr>\n",
       "  </tbody>\n",
       "</table>\n",
       "</div>"
      ],
      "text/plain": [
       "                event_time event_type  product_id          category_id  \\\n",
       "0  2020-01-01 00:00:00 UTC       view     5809910  1602943681873052386   \n",
       "1  2020-01-01 00:00:09 UTC       view     5812943  1487580012121948301   \n",
       "2  2020-01-01 00:00:19 UTC       view     5798924  1783999068867920626   \n",
       "3  2020-01-01 00:00:24 UTC       view     5793052  1487580005754995573   \n",
       "4  2020-01-01 00:00:25 UTC       view     5899926  2115334439910245200   \n",
       "\n",
       "  category_code     brand  price    user_id  \\\n",
       "0           NaN   grattol   5.24  595414620   \n",
       "1           NaN  kinetics   3.97  595414640   \n",
       "2           NaN    zinger   3.97  595412617   \n",
       "3           NaN       NaN   4.92  420652863   \n",
       "4           NaN       NaN   3.92  484071203   \n",
       "\n",
       "                           user_session  \n",
       "0  4adb70bb-edbd-4981-b60f-a05bfd32683a  \n",
       "1  c8c5205d-be43-4f1d-aa56-4828b8151c8a  \n",
       "2  46a5010f-bd69-4fbe-a00d-bb17aa7b46f3  \n",
       "3  546f6af3-a517-4752-a98b-80c4c5860711  \n",
       "4  cff70ddf-529e-4b0c-a4fc-f43a749c0acb  "
      ]
     },
     "execution_count": 47,
     "metadata": {},
     "output_type": "execute_result"
    }
   ],
   "source": [
    "df.head()"
   ]
  },
  {
   "cell_type": "code",
   "execution_count": 49,
   "metadata": {},
   "outputs": [
    {
     "data": {
      "text/plain": [
       "2"
      ]
     },
     "execution_count": 49,
     "metadata": {},
     "output_type": "execute_result"
    }
   ],
   "source": [
    "df.ndim\n"
   ]
  },
  {
   "cell_type": "code",
   "execution_count": 27,
   "metadata": {},
   "outputs": [],
   "source": [
    "from random import *\n",
    "\n",
    "N = 16\n",
    "T = 100*1000\n",
    "\n",
    "PRIMES = [121021, 121151, 150151, 151051, 151121, 180181, 180811, 181081, 2976221, \n",
    "          3021377, 6972593, 13466917, 20996011, 24036583, 25964951, 30402457]\n",
    "\n",
    "def generate_hash(max_n, prime):\n",
    "    p = prime\n",
    "    n = max_n\n",
    "    def hash_fn(val):\n",
    "        return (val*p) % n\n",
    "    return hash_fn\n",
    "\n",
    "class CountMinSketch:\n",
    "    def __init__(self):\n",
    "        self.tables = [[0]*T for _ in range(0, N)]\n",
    "        self.hashes = [generate_hash(T, PRIMES[i]) for i in range(0, N)]\n",
    "        \n",
    "    def add(self, val, count):\n",
    "        hashes = self.hashes\n",
    "        tables = self.tables\n",
    "        for ix in range(0, N):\n",
    "            h = hashes[ix](val)\n",
    "            tables[ix][h] += count\n",
    "    \n",
    "    def estimate(self, value):\n",
    "        results = []\n",
    "        tables = self.tables\n",
    "        hashes = self.hashes\n",
    "        for ix in range(0, N):\n",
    "            h = hashes[ix](value)\n",
    "            c = tables[ix][h]\n",
    "            results.append(c)\n",
    "        return min(results)"
   ]
  },
  {
   "cell_type": "code",
   "execution_count": 17,
   "metadata": {},
   "outputs": [],
   "source": [
    "seq1 = range(10000, 100000)\n",
    "sketch1 = CountMinSketch()\n",
    "for ix, x in enumerate(seq1):\n",
    "    sketch1.add(x, ix + 1)"
   ]
  },
  {
   "cell_type": "code",
   "execution_count": 18,
   "metadata": {},
   "outputs": [],
   "source": [
    "errors = []\n",
    "for ix, x in enumerate(seq1):\n",
    "    est = sketch1.estimate(x)\n",
    "    err = float(est - ix - 1)/(ix+1)\n",
    "    errors.append(err)"
   ]
  },
  {
   "cell_type": "code",
   "execution_count": null,
   "metadata": {},
   "outputs": [],
   "source": []
  }
 ],
 "metadata": {
  "kernelspec": {
   "display_name": "Python 3",
   "language": "python",
   "name": "python3"
  },
  "language_info": {
   "codemirror_mode": {
    "name": "ipython",
    "version": 3
   },
   "file_extension": ".py",
   "mimetype": "text/x-python",
   "name": "python",
   "nbconvert_exporter": "python",
   "pygments_lexer": "ipython3",
   "version": "3.7.3"
  }
 },
 "nbformat": 4,
 "nbformat_minor": 2
}
