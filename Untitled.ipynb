{
 "cells": [
  {
   "cell_type": "code",
   "execution_count": null,
   "metadata": {},
   "outputs": [],
   "source": [
    "import numpy as np # linear algebra\n",
    "import pandas as pd # data processing, CSV file I/O (e.g. pd.read_csv)\n",
    "import seaborn as sns # visualizations\n",
    "import os\n",
    "import glob"
   ]
  },
  {
   "cell_type": "code",
   "execution_count": null,
   "metadata": {},
   "outputs": [],
   "source": [
    "files = glob.glob(\"/home/dunbar/countminsketch/*.csv\")\n",
    "df = pd.DataFrame()\n",
    "[df.append(pd.DataFrame(pd.read_csv(file))) for file in files]\n"
   ]
  },
  {
   "cell_type": "code",
   "execution_count": null,
   "metadata": {},
   "outputs": [],
   "source": [
    "df.head()"
   ]
  },
  {
   "cell_type": "code",
   "execution_count": null,
   "metadata": {},
   "outputs": [],
   "source": [
    "from random import *\n",
    "\n",
    "N = 16\n",
    "T = 100*1000\n",
    "\n",
    "PRIMES = [121021, 121151, 150151, 151051, 151121, 180181, 180811, 181081, 2976221, \n",
    "          3021377, 6972593, 13466917, 20996011, 24036583, 25964951, 30402457]\n",
    "\n",
    "def generate_hash(max_n, prime):\n",
    "    p = prime\n",
    "    n = max_n\n",
    "    def hash_fn(val):\n",
    "        return (val*p) % n\n",
    "    return hash_fn\n",
    "\n",
    "class CountMinSketch:\n",
    "    def __init__(self):\n",
    "        self.tables = [[0]*T for _ in range(0, N)]\n",
    "        self.hashes = [generate_hash(T, PRIMES[i]) for i in range(0, N)]\n",
    "        \n",
    "    def add(self, val, count):\n",
    "        hashes = self.hashes\n",
    "        tables = self.tables\n",
    "        for ix in range(0, N):\n",
    "            h = hashes[ix](val)\n",
    "            tables[ix][h] += count\n",
    "    \n",
    "    def estimate(self, value):\n",
    "        results = []\n",
    "        tables = self.tables\n",
    "        hashes = self.hashes\n",
    "        for ix in range(0, N):\n",
    "            h = hashes[ix](value)\n",
    "            c = tables[ix][h]\n",
    "            results.append(c)\n",
    "        return min(results)"
   ]
  },
  {
   "cell_type": "code",
   "execution_count": null,
   "metadata": {},
   "outputs": [],
   "source": [
    "seq1 = range(10000, 100000)\n",
    "sketch1 = CountMinSketch()\n",
    "for ix, x in enumerate(seq1):\n",
    "    sketch1.add(x, ix + 1)"
   ]
  },
  {
   "cell_type": "code",
   "execution_count": null,
   "metadata": {},
   "outputs": [],
   "source": [
    "errors = []\n",
    "for ix, x in enumerate(seq1):\n",
    "    est = sketch1.estimate(x)\n",
    "    err = float(est - ix - 1)/(ix+1)\n",
    "    errors.append(err)"
   ]
  },
  {
   "cell_type": "code",
   "execution_count": null,
   "metadata": {},
   "outputs": [],
   "source": []
  }
 ],
 "metadata": {
  "kernelspec": {
   "display_name": "Python 3",
   "language": "python",
   "name": "python3"
  },
  "language_info": {
   "codemirror_mode": {
    "name": "ipython",
    "version": 3
   },
   "file_extension": ".py",
   "mimetype": "text/x-python",
   "name": "python",
   "nbconvert_exporter": "python",
   "pygments_lexer": "ipython3",
   "version": "3.7.3"
  }
 },
 "nbformat": 4,
 "nbformat_minor": 2
}
